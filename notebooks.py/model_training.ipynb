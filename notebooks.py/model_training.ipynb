{
 "cells": [
  {
   "cell_type": "code",
   "execution_count": 1,
   "id": "f3fbe18f",
   "metadata": {},
   "outputs": [
    {
     "data": {
      "text/plain": [
       "{'cells': [{'cell_type': 'code',\n",
       "   'metadata': {},\n",
       "   'source': ['!pip install xgboost scikit-learn pandas numpy']},\n",
       "  {'cell_type': 'code',\n",
       "   'metadata': {},\n",
       "   'source': ['import pandas as pd\\n',\n",
       "    'import numpy as np\\n',\n",
       "    'from sklearn.model_selection import train_test_split\\n',\n",
       "    'from sklearn.metrics import classification_report\\n',\n",
       "    'import xgboost as xgb\\n',\n",
       "    'import pickle\\n',\n",
       "    'import os']},\n",
       "  {'cell_type': 'code',\n",
       "   'metadata': {},\n",
       "   'source': ['# Create synthetic dataset\\n',\n",
       "    'np.random.seed(42)\\n',\n",
       "    'df = pd.DataFrame({\\n',\n",
       "    \"    'amount': np.random.uniform(10, 5000, 1000),\\n\",\n",
       "    \"    'location': np.random.choice(['Chennai', 'Mumbai', 'Delhi'], 1000),\\n\",\n",
       "    \"    'merchant': np.random.choice(['Amazon', 'Flipkart', 'Zomato'], 1000),\\n\",\n",
       "    \"    'is_fraud': np.random.choice([0, 1], 1000, p=[0.95, 0.05])\\n\",\n",
       "    '})\\n',\n",
       "    'df.head()']},\n",
       "  {'cell_type': 'code',\n",
       "   'metadata': {},\n",
       "   'source': ['# Encode categorical variables\\n',\n",
       "    \"df_encoded = pd.get_dummies(df, columns=['location', 'merchant'])\\n\",\n",
       "    \"X = df_encoded.drop('is_fraud', axis=1)\\n\",\n",
       "    \"y = df_encoded['is_fraud']\\n\",\n",
       "    '\\n',\n",
       "    'print(\"Feature columns:\", X.columns.tolist())']},\n",
       "  {'cell_type': 'code',\n",
       "   'metadata': {},\n",
       "   'source': ['# Train/test split and train XGBoost\\n',\n",
       "    'X_train, X_test, y_train, y_test = train_test_split(\\n',\n",
       "    '    X, y, test_size=0.2, random_state=42)\\n',\n",
       "    '\\n',\n",
       "    \"model = xgb.XGBClassifier(use_label_encoder=False, eval_metric='logloss')\\n\",\n",
       "    'model.fit(X_train, y_train)\\n',\n",
       "    '\\n',\n",
       "    '# Evaluate\\n',\n",
       "    'y_pred = model.predict(X_test)\\n',\n",
       "    'print(classification_report(y_test, y_pred))']},\n",
       "  {'cell_type': 'code',\n",
       "   'metadata': {},\n",
       "   'source': ['# Save model to backend/models/xgboost_model.pkl\\n',\n",
       "    'output_path = \"../backend/models\"\\n',\n",
       "    'os.makedirs(output_path, exist_ok=True)\\n',\n",
       "    '\\n',\n",
       "    'model_filename = os.path.join(output_path, \"xgboost_model.pkl\")\\n',\n",
       "    'with open(model_filename, \"wb\") as f:\\n',\n",
       "    '    pickle.dump(model, f)\\n',\n",
       "    '\\n',\n",
       "    'print(f\"✅ Model saved to: {model_filename}\")']}],\n",
       " 'metadata': {'kernelspec': {'display_name': 'Python 3',\n",
       "   'language': 'python',\n",
       "   'name': 'python3'}},\n",
       " 'nbformat': 4,\n",
       " 'nbformat_minor': 2}"
      ]
     },
     "execution_count": 1,
     "metadata": {},
     "output_type": "execute_result"
    }
   ],
   "source": [
    "{\n",
    " \"cells\": [\n",
    "  {\n",
    "   \"cell_type\": \"code\",\n",
    "   \"metadata\": {},\n",
    "   \"source\": [\n",
    "    \"!pip install xgboost scikit-learn pandas numpy\"\n",
    "   ]\n",
    "  },\n",
    "  {\n",
    "   \"cell_type\": \"code\",\n",
    "   \"metadata\": {},\n",
    "   \"source\": [\n",
    "    \"import pandas as pd\\n\",\n",
    "    \"import numpy as np\\n\",\n",
    "    \"from sklearn.model_selection import train_test_split\\n\",\n",
    "    \"from sklearn.metrics import classification_report\\n\",\n",
    "    \"import xgboost as xgb\\n\",\n",
    "    \"import pickle\\n\",\n",
    "    \"import os\"\n",
    "   ]\n",
    "  },\n",
    "  {\n",
    "   \"cell_type\": \"code\",\n",
    "   \"metadata\": {},\n",
    "   \"source\": [\n",
    "    \"# Create synthetic dataset\\n\",\n",
    "    \"np.random.seed(42)\\n\",\n",
    "    \"df = pd.DataFrame({\\n\",\n",
    "    \"    'amount': np.random.uniform(10, 5000, 1000),\\n\",\n",
    "    \"    'location': np.random.choice(['Chennai', 'Mumbai', 'Delhi'], 1000),\\n\",\n",
    "    \"    'merchant': np.random.choice(['Amazon', 'Flipkart', 'Zomato'], 1000),\\n\",\n",
    "    \"    'is_fraud': np.random.choice([0, 1], 1000, p=[0.95, 0.05])\\n\",\n",
    "    \"})\\n\",\n",
    "    \"df.head()\"\n",
    "   ]\n",
    "  },\n",
    "  {\n",
    "   \"cell_type\": \"code\",\n",
    "   \"metadata\": {},\n",
    "   \"source\": [\n",
    "    \"# Encode categorical variables\\n\",\n",
    "    \"df_encoded = pd.get_dummies(df, columns=['location', 'merchant'])\\n\",\n",
    "    \"X = df_encoded.drop('is_fraud', axis=1)\\n\",\n",
    "    \"y = df_encoded['is_fraud']\\n\",\n",
    "    \"\\n\",\n",
    "    \"print(\\\"Feature columns:\\\", X.columns.tolist())\"\n",
    "   ]\n",
    "  },\n",
    "  {\n",
    "   \"cell_type\": \"code\",\n",
    "   \"metadata\": {},\n",
    "   \"source\": [\n",
    "    \"# Train/test split and train XGBoost\\n\",\n",
    "    \"X_train, X_test, y_train, y_test = train_test_split(\\n\",\n",
    "    \"    X, y, test_size=0.2, random_state=42)\\n\",\n",
    "    \"\\n\",\n",
    "    \"model = xgb.XGBClassifier(use_label_encoder=False, eval_metric='logloss')\\n\",\n",
    "    \"model.fit(X_train, y_train)\\n\",\n",
    "    \"\\n\",\n",
    "    \"# Evaluate\\n\",\n",
    "    \"y_pred = model.predict(X_test)\\n\",\n",
    "    \"print(classification_report(y_test, y_pred))\"\n",
    "   ]\n",
    "  },\n",
    "  {\n",
    "   \"cell_type\": \"code\",\n",
    "   \"metadata\": {},\n",
    "   \"source\": [\n",
    "    \"# Save model to backend/models/xgboost_model.pkl\\n\",\n",
    "    \"output_path = \\\"../backend/models\\\"\\n\",\n",
    "    \"os.makedirs(output_path, exist_ok=True)\\n\",\n",
    "    \"\\n\",\n",
    "    \"model_filename = os.path.join(output_path, \\\"xgboost_model.pkl\\\")\\n\",\n",
    "    \"with open(model_filename, \\\"wb\\\") as f:\\n\",\n",
    "    \"    pickle.dump(model, f)\\n\",\n",
    "    \"\\n\",\n",
    "    \"print(f\\\"✅ Model saved to: {model_filename}\\\")\"\n",
    "   ]\n",
    "  }\n",
    " ],\n",
    " \"metadata\": {\n",
    "  \"kernelspec\": {\n",
    "   \"display_name\": \"Python 3\",\n",
    "   \"language\": \"python\",\n",
    "   \"name\": \"python3\"\n",
    "  }\n",
    " },\n",
    " \"nbformat\": 4,\n",
    " \"nbformat_minor\": 2\n",
    "}\n"
   ]
  },
  {
   "cell_type": "code",
   "execution_count": 6,
   "id": "5c5fbdd3",
   "metadata": {},
   "outputs": [
    {
     "name": "stdout",
     "output_type": "stream",
     "text": [
      "✅ Model saved to: ../backend/models\\xgboost_model.pkl\n"
     ]
    }
   ],
   "source": [
    "# Save model to backend/models/xgboost_model.pkl\n",
    "output_path = \"../backend/models\"\n",
    "os.makedirs(output_path, exist_ok=True)\n",
    "\n",
    "model_filename = os.path.join(output_path, \"xgboost_model.pkl\")\n",
    "with open(model_filename, \"wb\") as f:\n",
    "    pickle.dump(model, f)\n",
    "\n",
    "print(f\"✅ Model saved to: {model_filename}\")\n"
   ]
  },
  {
   "cell_type": "code",
   "execution_count": 5,
   "id": "46d457b3",
   "metadata": {},
   "outputs": [
    {
     "name": "stdout",
     "output_type": "stream",
     "text": [
      "              precision    recall  f1-score   support\n",
      "\n",
      "           0       0.95      0.99      0.97       191\n",
      "           1       0.00      0.00      0.00         9\n",
      "\n",
      "    accuracy                           0.94       200\n",
      "   macro avg       0.48      0.49      0.49       200\n",
      "weighted avg       0.91      0.94      0.93       200\n",
      "\n"
     ]
    },
    {
     "name": "stderr",
     "output_type": "stream",
     "text": [
      "d:\\anaconda\\Lib\\site-packages\\xgboost\\training.py:183: UserWarning: [00:29:13] WARNING: C:\\actions-runner\\_work\\xgboost\\xgboost\\src\\learner.cc:738: \n",
      "Parameters: { \"use_label_encoder\" } are not used.\n",
      "\n",
      "  bst.update(dtrain, iteration=i, fobj=obj)\n"
     ]
    }
   ],
   "source": [
    "# Train/test split and train XGBoost\n",
    "X_train, X_test, y_train, y_test = train_test_split(\n",
    "    X, y, test_size=0.2, random_state=42)\n",
    "\n",
    "model = xgb.XGBClassifier(use_label_encoder=False, eval_metric='logloss')\n",
    "model.fit(X_train, y_train)\n",
    "\n",
    "# Evaluate\n",
    "y_pred = model.predict(X_test)\n",
    "print(classification_report(y_test, y_pred))\n"
   ]
  },
  {
   "cell_type": "code",
   "execution_count": 4,
   "id": "ea8a7cd9",
   "metadata": {},
   "outputs": [
    {
     "name": "stdout",
     "output_type": "stream",
     "text": [
      "Feature columns: ['amount', 'location_Chennai', 'location_Delhi', 'location_Mumbai', 'merchant_Amazon', 'merchant_Flipkart', 'merchant_Zomato']\n"
     ]
    }
   ],
   "source": [
    "# Encode categorical variables\n",
    "df_encoded = pd.get_dummies(df, columns=['location', 'merchant'])\n",
    "X = df_encoded.drop('is_fraud', axis=1)\n",
    "y = df_encoded['is_fraud']\n",
    "\n",
    "print(\"Feature columns:\", X.columns.tolist())\n"
   ]
  },
  {
   "cell_type": "code",
   "execution_count": 3,
   "id": "2101ab25",
   "metadata": {},
   "outputs": [
    {
     "data": {
      "text/html": [
       "<div>\n",
       "<style scoped>\n",
       "    .dataframe tbody tr th:only-of-type {\n",
       "        vertical-align: middle;\n",
       "    }\n",
       "\n",
       "    .dataframe tbody tr th {\n",
       "        vertical-align: top;\n",
       "    }\n",
       "\n",
       "    .dataframe thead th {\n",
       "        text-align: right;\n",
       "    }\n",
       "</style>\n",
       "<table border=\"1\" class=\"dataframe\">\n",
       "  <thead>\n",
       "    <tr style=\"text-align: right;\">\n",
       "      <th></th>\n",
       "      <th>amount</th>\n",
       "      <th>location</th>\n",
       "      <th>merchant</th>\n",
       "      <th>is_fraud</th>\n",
       "    </tr>\n",
       "  </thead>\n",
       "  <tbody>\n",
       "    <tr>\n",
       "      <th>0</th>\n",
       "      <td>1878.955193</td>\n",
       "      <td>Delhi</td>\n",
       "      <td>Flipkart</td>\n",
       "      <td>0</td>\n",
       "    </tr>\n",
       "    <tr>\n",
       "      <th>1</th>\n",
       "      <td>4754.064389</td>\n",
       "      <td>Mumbai</td>\n",
       "      <td>Amazon</td>\n",
       "      <td>0</td>\n",
       "    </tr>\n",
       "    <tr>\n",
       "      <th>2</th>\n",
       "      <td>3662.649770</td>\n",
       "      <td>Delhi</td>\n",
       "      <td>Flipkart</td>\n",
       "      <td>0</td>\n",
       "    </tr>\n",
       "    <tr>\n",
       "      <th>3</th>\n",
       "      <td>2997.305836</td>\n",
       "      <td>Delhi</td>\n",
       "      <td>Zomato</td>\n",
       "      <td>0</td>\n",
       "    </tr>\n",
       "    <tr>\n",
       "      <th>4</th>\n",
       "      <td>788.533016</td>\n",
       "      <td>Chennai</td>\n",
       "      <td>Amazon</td>\n",
       "      <td>0</td>\n",
       "    </tr>\n",
       "  </tbody>\n",
       "</table>\n",
       "</div>"
      ],
      "text/plain": [
       "        amount location  merchant  is_fraud\n",
       "0  1878.955193    Delhi  Flipkart         0\n",
       "1  4754.064389   Mumbai    Amazon         0\n",
       "2  3662.649770    Delhi  Flipkart         0\n",
       "3  2997.305836    Delhi    Zomato         0\n",
       "4   788.533016  Chennai    Amazon         0"
      ]
     },
     "execution_count": 3,
     "metadata": {},
     "output_type": "execute_result"
    }
   ],
   "source": [
    "# Create synthetic dataset\n",
    "np.random.seed(42)\n",
    "df = pd.DataFrame({\n",
    "    'amount': np.random.uniform(10, 5000, 1000),\n",
    "    'location': np.random.choice(['Chennai', 'Mumbai', 'Delhi'], 1000),\n",
    "    'merchant': np.random.choice(['Amazon', 'Flipkart', 'Zomato'], 1000),\n",
    "    'is_fraud': np.random.choice([0, 1], 1000, p=[0.95, 0.05])\n",
    "})\n",
    "df.head()\n"
   ]
  },
  {
   "cell_type": "code",
   "execution_count": 2,
   "id": "0f99a1c3",
   "metadata": {},
   "outputs": [],
   "source": [
    "import pandas as pd\n",
    "import numpy as np\n",
    "from sklearn.model_selection import train_test_split\n",
    "from sklearn.metrics import classification_report\n",
    "import xgboost as xgb\n",
    "import pickle\n",
    "import os\n"
   ]
  },
  {
   "cell_type": "code",
   "execution_count": 1,
   "id": "0e08d78b",
   "metadata": {},
   "outputs": [
    {
     "name": "stdout",
     "output_type": "stream",
     "text": [
      "Collecting xgboost\n",
      "  Using cached xgboost-3.0.3-py3-none-win_amd64.whl.metadata (2.1 kB)\n",
      "Requirement already satisfied: scikit-learn in d:\\anaconda\\lib\\site-packages (1.4.2)\n",
      "Requirement already satisfied: pandas in d:\\anaconda\\lib\\site-packages (2.2.2)\n",
      "Requirement already satisfied: numpy in d:\\anaconda\\lib\\site-packages (1.26.4)\n",
      "Requirement already satisfied: scipy in d:\\anaconda\\lib\\site-packages (from xgboost) (1.13.1)\n",
      "Requirement already satisfied: joblib>=1.2.0 in d:\\anaconda\\lib\\site-packages (from scikit-learn) (1.4.2)\n",
      "Requirement already satisfied: threadpoolctl>=2.0.0 in d:\\anaconda\\lib\\site-packages (from scikit-learn) (2.2.0)\n",
      "Requirement already satisfied: python-dateutil>=2.8.2 in d:\\anaconda\\lib\\site-packages (from pandas) (2.9.0.post0)\n",
      "Requirement already satisfied: pytz>=2020.1 in d:\\anaconda\\lib\\site-packages (from pandas) (2024.1)\n",
      "Requirement already satisfied: tzdata>=2022.7 in d:\\anaconda\\lib\\site-packages (from pandas) (2023.3)\n",
      "Requirement already satisfied: six>=1.5 in d:\\anaconda\\lib\\site-packages (from python-dateutil>=2.8.2->pandas) (1.16.0)\n",
      "Using cached xgboost-3.0.3-py3-none-win_amd64.whl (149.9 MB)\n",
      "Installing collected packages: xgboost\n",
      "Successfully installed xgboost-3.0.3\n"
     ]
    }
   ],
   "source": [
    "# Install required libraries\n",
    "!pip install xgboost scikit-learn pandas numpy\n"
   ]
  }
 ],
 "metadata": {
  "kernelspec": {
   "display_name": "base",
   "language": "python",
   "name": "python3"
  },
  "language_info": {
   "codemirror_mode": {
    "name": "ipython",
    "version": 3
   },
   "file_extension": ".py",
   "mimetype": "text/x-python",
   "name": "python",
   "nbconvert_exporter": "python",
   "pygments_lexer": "ipython3",
   "version": "3.12.4"
  }
 },
 "nbformat": 4,
 "nbformat_minor": 5
}
